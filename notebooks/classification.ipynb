{
 "cells": [
  {
   "cell_type": "markdown",
   "metadata": {},
   "source": [
    "## Classification Of Hand Written Digits"
   ]
  },
  {
   "cell_type": "code",
   "execution_count": 1,
   "metadata": {
    "collapsed": true
   },
   "outputs": [],
   "source": [
    "import pyspark\n",
    "import numpy as np\n",
    "from splearn.rdd import ArrayRDD\n",
    "from sklearn.datasets import fetch_mldata\n",
    "from sklearn.model_selection import train_test_split\n",
    "\n",
    "\n",
    "import matplotlib\n",
    "import matplotlib.pyplot as plt\n",
    "matplotlib.rcParams['figure.figsize']=[10, 10]\n",
    "%matplotlib inline\n",
    "\n",
    "\n",
    "sc = pyspark.SparkContext(appName=\"MNIST Classification\")"
   ]
  },
  {
   "cell_type": "markdown",
   "metadata": {},
   "source": [
    "### Grab the MNIST Data"
   ]
  },
  {
   "cell_type": "code",
   "execution_count": 25,
   "metadata": {
    "collapsed": true
   },
   "outputs": [],
   "source": [
    "def load_mnist(data_dir):\n",
    "    \"\"\"\n",
    "    Load the MNIST dataset\n",
    "    \n",
    "    Parameters:\n",
    "    ----------\n",
    "    * `data_dir` [str]\n",
    "        Location for the data.\n",
    "        - If it does not exit, the data will be downloaded there.\n",
    "        \n",
    "    Returns:\n",
    "    -------\n",
    "    * `X` [nd-array shape=(70000, 784)]\n",
    "        Handwritten digits data.\n",
    "    * `y` [nd-array shape(70000,)]\n",
    "        Labels.\n",
    "    \"\"\"\n",
    "    mnist = fetch_mldata('MNIST original', data_home=data_dir)\n",
    "    X = mnist['data']\n",
    "    y = mnist['target']\n",
    "    return X, y\n",
    "\n",
    "\n",
    "X, y = load_mnist('../data')"
   ]
  },
  {
   "cell_type": "markdown",
   "metadata": {},
   "source": [
    "### Creating Training and Test Splits"
   ]
  },
  {
   "cell_type": "code",
   "execution_count": 7,
   "metadata": {},
   "outputs": [],
   "source": [
    "from sklearn.model_selection import train_test_split\n",
    "\n",
    "X_train, X_test, y_train, y_test = train_test_split(X, y, test_size=0.33, random_state=42)"
   ]
  },
  {
   "cell_type": "markdown",
   "metadata": {},
   "source": [
    "### Setting up RDDs and ArrayRDDs"
   ]
  },
  {
   "cell_type": "code",
   "execution_count": 26,
   "metadata": {},
   "outputs": [],
   "source": [
    "def create_arrayrdd(array, num_partitions=4):\n",
    "    \"\"\"\n",
    "    Create an ArrayRDD for Pyspark\n",
    "    \n",
    "    Parameters:\n",
    "    ----------\n",
    "    * `array` [numpy nd-array]\n",
    "        Array to be converted to ArrayRDD.\n",
    "        \n",
    "    * `num_partitions` [int default=4]\n",
    "        Number of distributed blocks to create.\n",
    "    \n",
    "    Returns:\n",
    "    -------\n",
    "    An ArrayRDD\n",
    "    \"\"\"\n",
    "    rdd = sc.parallelize(array, num_partitions)\n",
    "    return ArrayRDD(rdd)\n",
    "\n",
    "\n",
    "X_trainArry = create_arrayrdd(X_train, 4)\n",
    "y_trainArry = create_arrayrdd(y_train, 4)\n",
    "\n",
    "X_testArry = create_arrayrdd(X_test, 4)\n",
    "y_testArry = create_arrayrdd(y_test, 4)"
   ]
  },
  {
   "cell_type": "markdown",
   "metadata": {},
   "source": [
    "### A Few Sanity Checks:"
   ]
  },
  {
   "cell_type": "code",
   "execution_count": 27,
   "metadata": {},
   "outputs": [
    {
     "name": "stdout",
     "output_type": "stream",
     "text": [
      "Number of distributed partitions in array: 4\n",
      "Training set has shape (46900, 784)\n",
      "Total number of examples across partitions: 46900\n"
     ]
    }
   ],
   "source": [
    "print('Number of distributed partitions in array: {}'.format(X_trainArry.getNumPartitions()))\n",
    "print('Training set has shape {}'.format(X_trainArry.shape))\n",
    "\n",
    "# Sum of the training set partitions == number of training set examples?\n",
    "sum = 0\n",
    "for block in X_trainArry:\n",
    "    sum += len(block)\n",
    "    \n",
    "print('Total number of examples across partitions: {}'.format(sum))"
   ]
  },
  {
   "cell_type": "code",
   "execution_count": null,
   "metadata": {
    "collapsed": true
   },
   "outputs": [],
   "source": []
  }
 ],
 "metadata": {
  "kernelspec": {
   "display_name": "Python 3",
   "language": "python",
   "name": "python3"
  },
  "language_info": {
   "codemirror_mode": {
    "name": "ipython",
    "version": 3
   },
   "file_extension": ".py",
   "mimetype": "text/x-python",
   "name": "python",
   "nbconvert_exporter": "python",
   "pygments_lexer": "ipython3",
   "version": "3.6.3"
  }
 },
 "nbformat": 4,
 "nbformat_minor": 2
}
