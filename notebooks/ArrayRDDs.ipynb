{
 "cells": [
  {
   "cell_type": "markdown",
   "metadata": {},
   "source": [
    "## Notes for Pyspark: Working Between RDDs and Arrays\n",
    "\n",
    "Version Information: \n",
    "\n",
    "I have installed Pyspark via pip inside of an Anaconda Python 3.5 environment. That sets me at Python for Java and Pyspark versions *py4j-0.10.4 pyspark-2.2.1* respectively."
   ]
  },
  {
   "cell_type": "code",
   "execution_count": 1,
   "metadata": {
    "collapsed": true
   },
   "outputs": [],
   "source": [
    "import pyspark\n",
    "import numpy as np\n",
    "from splearn.rdd import ArrayRDD\n",
    "from sklearn.datasets import fetch_mldata\n",
    "\n",
    "import matplotlib\n",
    "import matplotlib.pyplot as plt\n",
    "matplotlib.rcParams['figure.figsize']=[10, 10]\n",
    "%matplotlib inline\n",
    "\n",
    "\n",
    "sc = pyspark.SparkContext(appName=\"ArrayRDDs\")"
   ]
  },
  {
   "cell_type": "markdown",
   "metadata": {},
   "source": [
    "### Preparing Data\n",
    "\n",
    "There are plenty of ways of getting a hold of data. \n",
    "\n",
    "#### Option 1:\n",
    "Several of the larger Python libraries, including Scikit-Learn, have methods for grabbing data online. \n",
    "\n",
    "Scikit-Learn's data loading utilities:\n",
    "1. fetch_mldata (method used below):\n",
    "http://scikit-learn.org/stable/modules/generated/sklearn.datasets.fetch_mldata.html\n",
    "2. Dataset utilities docs:\n",
    "http://scikit-learn.org/stable/datasets/index.html\n",
    "\n",
    "\n",
    "### MNIST Data\n",
    "\n",
    "> The MNIST database of handwritten digits, available from http://yann.lecun.com/exdb/mnist/, has a training set of 60,000 examples, and a test set of 10,000 examples. It is a subset of a larger set available from NIST. The digits have been size-normalized and centered in a fixed-size image. \n",
    "\n",
    "Read more on the MNIST dataset here: http://yann.lecun.com/exdb/mnist/"
   ]
  },
  {
   "cell_type": "code",
   "execution_count": 2,
   "metadata": {},
   "outputs": [
    {
     "name": "stdout",
     "output_type": "stream",
     "text": [
      "Our dataset, X, is of type <class 'numpy.ndarray'>\n",
      "Our labels, y, are of type <class 'numpy.ndarray'>\n"
     ]
    }
   ],
   "source": [
    "# I have provided a directory to save data to within this repo.\n",
    "DATA_DIR = '../data'\n",
    "mnist = fetch_mldata('MNIST original', data_home=DATA_DIR)\n",
    "\n",
    "# fetch_ml() returns a dictionary. Take a look at its fields.\n",
    "X = mnist['data']\n",
    "y = mnist['target']\n",
    "\n",
    "print('Our dataset, X, is of type {}'.format(type(X)))\n",
    "print('Our labels, y, are of type {}'.format(type(y)))"
   ]
  },
  {
   "cell_type": "markdown",
   "metadata": {
    "collapsed": true
   },
   "source": [
    "Note: \n",
    "\n",
    "Numpy is a gem of a library which focuses on operations for n-dimensional arrays. If you find yourself frustrated with how Spark is holding (and hiding) your data, working between Spark's data structures and Numpy can be helpful. More on that soon.\n",
    "\n",
    "### Resilient Distributed Datasets (RDDs)\n",
    "\n",
    "Let's take a closer look at Spark's RDDs. Let's cast our numpy nd-arrays as RDDs and see what we can do."
   ]
  },
  {
   "cell_type": "code",
   "execution_count": 3,
   "metadata": {},
   "outputs": [
    {
     "name": "stdout",
     "output_type": "stream",
     "text": [
      "x_rdd is of type <class 'pyspark.rdd.RDD'>\n",
      "y_rdd is of type <class 'pyspark.rdd.RDD'>\n"
     ]
    }
   ],
   "source": [
    "x_rdd = sc.parallelize(X, 2)\n",
    "y_rdd = sc.parallelize(y, 2)\n",
    "\n",
    "print('x_rdd is of type {}'.format(type(x_rdd)))\n",
    "print('y_rdd is of type {}'.format(type(y_rdd)))"
   ]
  },
  {
   "cell_type": "markdown",
   "metadata": {},
   "source": [
    "There are a lot of methods associated with Spark's RDD class. If you are not familiar with Python or Jupyter notebooks, you can check those methods here by using tab completion. For example, to see the methods of our RDD class, try the following:\n",
    "\n",
    "```python\n",
    "x_rdd.`<tab>`\n",
    "```\n",
    "\n",
    "This will bring up a list of all the methods associated with that object. Unfortunately, there are not many convenient ways of inspecting data when cast as RDDs. If you are wanting to get a closer look at the data, you typically have to `collect` the data from the RDD format:"
   ]
  },
  {
   "cell_type": "code",
   "execution_count": 5,
   "metadata": {
    "collapsed": true
   },
   "outputs": [],
   "source": [
    "# collect will return a list\n",
    "x_list = x_rdd.collect()"
   ]
  },
  {
   "cell_type": "markdown",
   "metadata": {},
   "source": [
    "The list format is a bit more natural to work with if you are familiar with Python, but going between lists and RDDs can be a bit tedious. Let me show you a potentially helpful library that marries some features of Numpy with Pyspark.\n",
    "\n",
    "### Sparkit-Learn\n",
    "\n",
    "Sparkit-learn is a library that I find really helpful when working with Spark.\n",
    "\n",
    "> About:\n",
    "\n",
    ">Sparkit-learn aims to provide scikit-learn functionality and API on PySpark. The main goal of the library is to create an API that stays close to sklearn's.\n",
    "\n",
    ">The driving principle was to \"Think locally, execute distributively.\" To accomodate this concept, the basic data block is always an array or a (sparse) matrix and the operations are executed on block level.\n",
    "\n",
    "Sparkit-learn's GitHub: https://github.com/lensacom/sparkit-learn\n",
    "\n",
    "`Sparkit-Learn` brings to the possibility of using `Scikit-Learn` models within Pyspark. This can be really nice, but not all of the `Scikit-Learn` library is supported.\n",
    "\n",
    "What I like about `Sparkit-Learn` is that it makes working with RDDs and data in general much more friendly. It's `ArrayRDD` class adds back some sorely missed methods when handling data."
   ]
  },
  {
   "cell_type": "code",
   "execution_count": 13,
   "metadata": {},
   "outputs": [
    {
     "name": "stdout",
     "output_type": "stream",
     "text": [
      "Each distributed subset of your RDD is called a \"block\" in an ArrayRDD.\n",
      "x_rddarray contains 2 blocks\n",
      "x_rddarray's blocks are of type <class 'numpy.ndarray'>\n"
     ]
    }
   ],
   "source": [
    "from splearn.rdd import ArrayRDD\n",
    "\n",
    "x_rddarray = ArrayRDD(x_rdd)\n",
    "y_rddarray = ArrayRDD(y_rdd)\n",
    "\n",
    "print('Each distributed subset of your RDD is called a \"block\" in an ArrayRDD.')\n",
    "print('x_rddarray contains {} blocks'.format(x_rddarray.blocks))\n",
    "\n",
    "# Get the type of the array's blocks\n",
    "print(\"x_rddarray's blocks are of type {}\".format(x_rddarray.dtype))"
   ]
  },
  {
   "cell_type": "code",
   "execution_count": 32,
   "metadata": {},
   "outputs": [
    {
     "name": "stdout",
     "output_type": "stream",
     "text": [
      "collected_list is of type <class 'list'>\n",
      "The zeroth element of our data is an array of shape (34816, 784)\n"
     ]
    }
   ],
   "source": [
    "# Collecting will still return a list for you:\n",
    "collected_list = x_rddarray.collect()\n",
    "print('collected_list is of type {}'.format(type(collected_list)))\n",
    "\n",
    "# But now indexing and slicing will work for you.\n",
    "early_elems = x_rddarray[0:1].collect()\n",
    "elem0 = early_elems[0]\n",
    "print('The zeroth element of our data is an array of shape {}'.format(elem0.shape))"
   ]
  },
  {
   "cell_type": "markdown",
   "metadata": {},
   "source": [
    "What I find to be most helpful is the ability to go directly from RDDs to Numpy arrays:"
   ]
  },
  {
   "cell_type": "code",
   "execution_count": 5,
   "metadata": {},
   "outputs": [
    {
     "data": {
      "text/plain": [
       "(70000, 784)"
      ]
     },
     "execution_count": 5,
     "metadata": {},
     "output_type": "execute_result"
    }
   ],
   "source": [
    "x_array = x_rddarray.toarray()\n",
    "x_array.shape"
   ]
  },
  {
   "cell_type": "code",
   "execution_count": 6,
   "metadata": {},
   "outputs": [
    {
     "data": {
      "text/plain": [
       "(70000, 28, 28)"
      ]
     },
     "execution_count": 6,
     "metadata": {},
     "output_type": "execute_result"
    }
   ],
   "source": [
    "# Reshaping data is much easier with Numpy\n",
    "x_array = x_array.reshape(70000, 28, 28)\n",
    "x_array.shape"
   ]
  },
  {
   "cell_type": "code",
   "execution_count": 7,
   "metadata": {},
   "outputs": [
    {
     "data": {
      "image/png": "[encoded data removed]",
      "text/plain": [
       "<matplotlib.figure.Figure at 0x10facf828>"
      ]
     },
     "metadata": {},
     "output_type": "display_data"
    }
   ],
   "source": [
    "# You'll never get a plot of your data from an RDD\n",
    "plt.xkcd()\n",
    "plt.imshow(x_array[0], cmap='inferno')\n",
    "plt.show()"
   ]
  },
  {
   "cell_type": "code",
   "execution_count": 9,
   "metadata": {},
   "outputs": [
    {
     "data": {
      "text/plain": [
       "(70000, 28, 28)"
      ]
     },
     "execution_count": 9,
     "metadata": {},
     "output_type": "execute_result"
    }
   ],
   "source": [
    "# We then can go back to RDDs.\n",
    "new_rdd = sc.parallelize(x_array, 2)\n",
    "\n",
    "new_rddarray = ArrayRDD(new_rdd)\n",
    "new_rddarray.shape"
   ]
  },
  {
   "cell_type": "markdown",
   "metadata": {},
   "source": [
    "### Challenge\n",
    "\n",
    "What happens if you want to reshape your data, but the data is too big to fit in memory? Can you find a way to get ArrayRDDs to work for you?\n",
    "\n",
    "Hint: ArrayRDD's slicing could come in handy."
   ]
  },
  {
   "cell_type": "code",
   "execution_count": 12,
   "metadata": {},
   "outputs": [
    {
     "name": "stdout",
     "output_type": "stream",
     "text": [
      "(34816, 28, 28)\n",
      "(35184, 28, 28)\n"
     ]
    }
   ],
   "source": [
    "# Blocks are distributed subsets of your RDD.\n",
    "# How might we use this?\n",
    "for block in x_rddarray:\n",
    "    reshaped = block.toarray().reshape(block.shape[0], 28, 28)\n",
    "    print(reshaped.shape)"
   ]
  },
  {
   "cell_type": "code",
   "execution_count": null,
   "metadata": {
    "collapsed": true
   },
   "outputs": [],
   "source": []
  }
 ],
 "metadata": {
  "kernelspec": {
   "display_name": "Python 3",
   "language": "python",
   "name": "python3"
  },
  "language_info": {
   "codemirror_mode": {
    "name": "ipython",
    "version": 3
   },
   "file_extension": ".py",
   "mimetype": "text/x-python",
   "name": "python",
   "nbconvert_exporter": "python",
   "pygments_lexer": "ipython3",
   "version": "3.6.3"
  }
 },
 "nbformat": 4,
 "nbformat_minor": 2
}
