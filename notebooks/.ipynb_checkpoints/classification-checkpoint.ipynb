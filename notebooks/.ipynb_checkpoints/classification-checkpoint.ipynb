{
 "cells": [
  {
   "cell_type": "markdown",
   "metadata": {},
   "source": [
    "## Classification Of Hand Written Digits"
   ]
  },
  {
   "cell_type": "code",
   "execution_count": 1,
   "metadata": {
    "collapsed": true
   },
   "outputs": [],
   "source": [
    "import pyspark\n",
    "import numpy as np\n",
    "from splearn.rdd import ArrayRDD\n",
    "from sklearn.datasets import fetch_mldata\n",
    "from sklearn.model_selection import train_test_split\n",
    "\n",
    "from pyspark.ml.linalg import Vectors\n",
    "from pyspark.sql import SparkSession\n",
    "from pyspark.sql.functions import udf\n",
    "from pyspark.sql.types import *\n",
    "import numpy as np\n",
    "\n",
    "import matplotlib\n",
    "import matplotlib.pyplot as plt\n",
    "matplotlib.rcParams['figure.figsize']=[10, 10]\n",
    "%matplotlib inline\n",
    "\n",
    "\n",
    "#initialize spark session\n",
    "spark = SparkSession\\\n",
    "        .builder\\\n",
    "        .appName(\"Test\")\\\n",
    "        .config('spark.sql.warehouse.dir', 'file:///C:/')\\\n",
    "       .getOrCreate()\n",
    "    \n",
    "sc = spark.sparkContext\n",
    "\n",
    "#sc = pyspark.SparkContext(appName=\"MNIST Classification\")"
   ]
  },
  {
   "cell_type": "markdown",
   "metadata": {},
   "source": [
    "### Grab the MNIST Data"
   ]
  },
  {
   "cell_type": "code",
   "execution_count": 2,
   "metadata": {
    "collapsed": true
   },
   "outputs": [],
   "source": [
    "def load_mnist(data_dir):\n",
    "    \"\"\"\n",
    "    Load the MNIST dataset\n",
    "    \n",
    "    Parameters:\n",
    "    ----------\n",
    "    * `data_dir` [str]\n",
    "        Location for the data.\n",
    "        - If it does not exit, the data will be downloaded there.\n",
    "        \n",
    "    Returns:\n",
    "    -------\n",
    "    * `X` [nd-array shape=(70000, 784)]\n",
    "        Handwritten digits data.\n",
    "    * `y` [nd-array shape(70000,)]\n",
    "        Labels.\n",
    "    \"\"\"\n",
    "    mnist = fetch_mldata('MNIST original', data_home=data_dir)\n",
    "    X = mnist['data']\n",
    "    y = mnist['target']\n",
    "    return X, y\n",
    "\n",
    "\n",
    "X, y = load_mnist('../data')"
   ]
  },
  {
   "cell_type": "markdown",
   "metadata": {},
   "source": [
    "### Creating Training and Test Splits"
   ]
  },
  {
   "cell_type": "code",
   "execution_count": 3,
   "metadata": {
    "collapsed": true
   },
   "outputs": [],
   "source": [
    "from sklearn.model_selection import train_test_split\n",
    "\n",
    "X_train, X_test, y_train, y_test = train_test_split(X, y, test_size=0.33, random_state=42)"
   ]
  },
  {
   "cell_type": "markdown",
   "metadata": {},
   "source": [
    "### Setting up RDDs and ArrayRDDs"
   ]
  },
  {
   "cell_type": "code",
   "execution_count": 4,
   "metadata": {
    "collapsed": true
   },
   "outputs": [],
   "source": [
    "def create_arrayrdd(array, num_partitions=4):\n",
    "    \"\"\"\n",
    "    Create an ArrayRDD for Pyspark\n",
    "    \n",
    "    Parameters:\n",
    "    ----------\n",
    "    * `array` [numpy nd-array]\n",
    "        Array to be converted to ArrayRDD.\n",
    "        \n",
    "    * `num_partitions` [int default=4]\n",
    "        Number of distributed blocks to create.\n",
    "    \n",
    "    Returns:\n",
    "    -------\n",
    "    An ArrayRDD\n",
    "    \"\"\"\n",
    "    rdd = sc.parallelize(array, num_partitions)\n",
    "    return ArrayRDD(rdd)\n",
    "\n",
    "\n",
    "X_trainArry = create_arrayrdd(X_train, 4)\n",
    "y_trainArry = create_arrayrdd(y_train, 4)\n",
    "\n",
    "X_testArry = create_arrayrdd(X_test, 4)\n",
    "y_testArry = create_arrayrdd(y_test, 4)"
   ]
  },
  {
   "cell_type": "markdown",
   "metadata": {},
   "source": [
    "### A Few Sanity Checks:"
   ]
  },
  {
   "cell_type": "code",
   "execution_count": 5,
   "metadata": {},
   "outputs": [
    {
     "name": "stdout",
     "output_type": "stream",
     "text": [
      "Number of distributed partitions in array: 4\n",
      "Training set has shape (46900, 784)\n",
      "Total number of examples across partitions: 46900\n"
     ]
    }
   ],
   "source": [
    "print('Number of distributed partitions in array: {}'.format(X_trainArry.getNumPartitions()))\n",
    "print('Training set has shape {}'.format(X_trainArry.shape))\n",
    "\n",
    "# Sum of the training set partitions == number of training set examples?\n",
    "sum = 0\n",
    "for block in X_trainArry:\n",
    "    sum += len(block)\n",
    "    \n",
    "print('Total number of examples across partitions: {}'.format(sum))"
   ]
  },
  {
   "cell_type": "code",
   "execution_count": 7,
   "metadata": {
    "collapsed": true
   },
   "outputs": [],
   "source": [
    "from splearn.rdd import DictRDD\n",
    "\n",
    "\n",
    "def create_dictRdd(X, y, num_partitions=4):\n",
    "    \"\"\"\n",
    "    \"\"\"\n",
    "    X_rdd = sc.parallelize(X, num_partitions)\n",
    "    y_rdd = sc.parallelize(y, num_partitions)\n",
    "\n",
    "    Z = DictRDD((X_rdd, y_rdd), columns=('X', 'y'),\n",
    "                dtype=[np.ndarray, np.ndarray])\n",
    "    return Z\n",
    "\n",
    "\n",
    "z = create_dictRdd(X_train, y_train, 4)"
   ]
  },
  {
   "cell_type": "code",
   "execution_count": 8,
   "metadata": {
    "collapsed": true
   },
   "outputs": [],
   "source": [
    "X_trainRDD = sc.parallelize(X_train, 4)\n",
    "y_trainRDD = sc.parallelize(y_train, 4)\n",
    "X_testRDD = sc.parallelize(X_test, 4)\n",
    "y_testRDD = sc.parallelize(y_test, 4)"
   ]
  },
  {
   "cell_type": "code",
   "execution_count": 6,
   "metadata": {
    "collapsed": true
   },
   "outputs": [],
   "source": [
    "from pyspark.ml.linalg import Vectors\n",
    "\n",
    "\n",
    "def create_df(y, X):\n",
    "    \"\"\"\n",
    "    Create Pyspark dataframe from numpy arrays.\n",
    "    \n",
    "    Parameters:\n",
    "    ----------\n",
    "    * `y` [numpy nd_array]\n",
    "        Labels for the dataset.\n",
    "    \n",
    "    * `X` [numpy nd_array]\n",
    "        Features for the dataset.\n",
    "        \n",
    "    Returns:\n",
    "    -------\n",
    "    Pyspark dataframe.\n",
    "        - schema=[\"label\", \"features\"]\n",
    "    \"\"\"\n",
    "    stack = np.column_stack((y, X))\n",
    "    data = map(lambda x: (int(x[0]), Vectors.dense(x[1:])), stack)\n",
    "    return spark.createDataFrame(data, schema=[\"label\", \"features\"])\n",
    "    "
   ]
  },
  {
   "cell_type": "code",
   "execution_count": 7,
   "metadata": {
    "collapsed": true
   },
   "outputs": [],
   "source": [
    "df = create_df(y_train, X_train)"
   ]
  },
  {
   "cell_type": "code",
   "execution_count": 8,
   "metadata": {
    "collapsed": true
   },
   "outputs": [],
   "source": [
    "(df_train, df_val) = df.randomSplit([0.1, 0.90])"
   ]
  },
  {
   "cell_type": "code",
   "execution_count": 9,
   "metadata": {},
   "outputs": [
    {
     "name": "stdout",
     "output_type": "stream",
     "text": [
      "+-----+--------------------+\n",
      "|label|            features|\n",
      "+-----+--------------------+\n",
      "|    0|[0.0,0.0,0.0,0.0,...|\n",
      "|    0|[0.0,0.0,0.0,0.0,...|\n",
      "|    0|[0.0,0.0,0.0,0.0,...|\n",
      "|    0|[0.0,0.0,0.0,0.0,...|\n",
      "|    0|[0.0,0.0,0.0,0.0,...|\n",
      "|    0|[0.0,0.0,0.0,0.0,...|\n",
      "|    0|[0.0,0.0,0.0,0.0,...|\n",
      "|    0|[0.0,0.0,0.0,0.0,...|\n",
      "|    0|[0.0,0.0,0.0,0.0,...|\n",
      "|    0|[0.0,0.0,0.0,0.0,...|\n",
      "|    0|[0.0,0.0,0.0,0.0,...|\n",
      "|    0|[0.0,0.0,0.0,0.0,...|\n",
      "|    0|[0.0,0.0,0.0,0.0,...|\n",
      "|    0|[0.0,0.0,0.0,0.0,...|\n",
      "|    0|[0.0,0.0,0.0,0.0,...|\n",
      "|    0|[0.0,0.0,0.0,0.0,...|\n",
      "|    0|[0.0,0.0,0.0,0.0,...|\n",
      "|    0|[0.0,0.0,0.0,0.0,...|\n",
      "|    0|[0.0,0.0,0.0,0.0,...|\n",
      "|    0|[0.0,0.0,0.0,0.0,...|\n",
      "+-----+--------------------+\n",
      "only showing top 20 rows\n",
      "\n"
     ]
    }
   ],
   "source": [
    "df_train.show()"
   ]
  },
  {
   "cell_type": "code",
   "execution_count": 12,
   "metadata": {
    "collapsed": true
   },
   "outputs": [],
   "source": [
    "from pyspark.ml.classification import GBTClassifier\n",
    "from pyspark.ml.classification import LinearSVC\n",
    "from pyspark.ml.classification import OneVsRest\n",
    "\n",
    "gbt = GBTClassifier(labelCol=\"label\", featuresCol=\"features\", maxIter=2)\n",
    "lsvc = LinearSVC(maxIter=10, regParam=0.1)"
   ]
  },
  {
   "cell_type": "code",
   "execution_count": null,
   "metadata": {},
   "outputs": [],
   "source": [
    "#model = gbt.fit(df_train)\n",
    "lsvc_model = lsvc.fit(df_train)"
   ]
  },
  {
   "cell_type": "code",
   "execution_count": null,
   "metadata": {
    "collapsed": true
   },
   "outputs": [],
   "source": [
    "ovr = OneVsRest(classifier=lsvc)\n",
    "\n",
    "# train the multiclass model.\n",
    "ovrModel = ovr.fit(train)"
   ]
  },
  {
   "cell_type": "code",
   "execution_count": null,
   "metadata": {
    "collapsed": true
   },
   "outputs": [],
   "source": [
    "# Make predictions.\n",
    "predictions = lsvc_model.transform(df_val)"
   ]
  },
  {
   "cell_type": "code",
   "execution_count": null,
   "metadata": {
    "collapsed": true
   },
   "outputs": [],
   "source": [
    "from pyspark.ml.evaluation import MulticlassClassificationEvaluator\n",
    "\n",
    "\n",
    "# Select example rows to display.\n",
    "predictions.select(\"prediction\", \"label\", \"features\").show(5)\n",
    "\n",
    "# Select (prediction, true label) and compute test error\n",
    "evaluator = MulticlassClassificationEvaluator(\n",
    "    labelCol=\"label\", predictionCol=\"prediction\", metricName=\"accuracy\"\n",
    ")\n",
    "\n",
    "accuracy = evaluator.evaluate(predictions)\n",
    "print(\"Test Accuracy = {}\".format(accuracy))\n",
    "print(\"Test Error = %g\" % (1.0 - accuracy))"
   ]
  }
 ],
 "metadata": {
  "kernelspec": {
   "display_name": "Python 3",
   "language": "python",
   "name": "python3"
  },
  "language_info": {
   "codemirror_mode": {
    "name": "ipython",
    "version": 3
   },
   "file_extension": ".py",
   "mimetype": "text/x-python",
   "name": "python",
   "nbconvert_exporter": "python",
   "pygments_lexer": "ipython3",
   "version": "3.6.3"
  }
 },
 "nbformat": 4,
 "nbformat_minor": 2
}
